{
 "cells": [
  {
   "cell_type": "code",
   "execution_count": 1,
   "id": "ade69f31",
   "metadata": {},
   "outputs": [
    {
     "name": "stdout",
     "output_type": "stream",
     "text": [
      "root\n",
      " |-- name: struct (nullable = true)\n",
      " |    |-- firstname: string (nullable = true)\n",
      " |    |-- middlename: string (nullable = true)\n",
      " |    |-- lastname: string (nullable = true)\n",
      " |-- gender: string (nullable = true)\n",
      " |-- subject: array (nullable = true)\n",
      " |    |-- element: string (containsNull = true)\n",
      " |-- status: string (nullable = true)\n",
      " |-- country: string (nullable = true)\n",
      "\n",
      "+------------------------+------+-------------------------+------+-------+\n",
      "|name                    |gender|subject                  |status|country|\n",
      "+------------------------+------+-------------------------+------+-------+\n",
      "|{Ram, , Singh}          |M     |[Maths, English, Science]|PASS  |IN     |\n",
      "|{Shyamo, Kumari, }      |F     |[Maths, Science]         |FAIL  |AUS    |\n",
      "|{Rahul, Kumar, Varshney}|M     |[English, Science]       |FAIL  |AUS    |\n",
      "|{Axeli, , Patel}        |F     |[Maths, English]         |PASS  |PAK    |\n",
      "|{Virat, Kohli, }        |M     |[Maths, English]         |FAIL  |IN     |\n",
      "|{Vinai, Raj, Singh}     |F     |[English, Science]       |PASS  |PAK    |\n",
      "+------------------------+------+-------------------------+------+-------+\n",
      "\n"
     ]
    }
   ],
   "source": [
    "#Basic imports\n",
    "\n",
    "import numpy as np\n",
    "from pyspark.sql import SparkSession\n",
    "from pyspark.sql.types import *\n",
    "from pyspark.sql.functions import *\n",
    "\n",
    "#session Built\n",
    "\n",
    "spark = SparkSession.builder.appName('Basics_pyspark_df').getOrCreate()\n",
    "\n",
    "#data creation\n",
    "\n",
    "data = [(('Ram','','Singh'),'M',['Maths','English','Science'],'PASS','IN'),\n",
    "        (('Shyamo','Kumari',''),'F',['Maths','Science'],'FAIL','AUS'),\n",
    "        (('Rahul','Kumar','Varshney'),'M',['English','Science'],'FAIL','AUS'),\n",
    "        (('Axeli','','Patel'),'F',['Maths','English'],'PASS','PAK'),\n",
    "        (('Virat','Kohli',''),'M',['Maths','English'],'FAIL','IN'),\n",
    "        (('Vinai','Raj','Singh'),'F',['English','Science'],'PASS','PAK')\n",
    "       ]\n",
    "\n",
    "schema = StructType([\n",
    "     StructField('name', StructType([\n",
    "        StructField('firstname', StringType(), True),\n",
    "        StructField('middlename', StringType(), True),\n",
    "         StructField('lastname', StringType(), True)\n",
    "     ])),\n",
    "    StructField('gender', StringType(), True),\n",
    "     StructField('subject', ArrayType(StringType()), True),\n",
    "     StructField('status', StringType(), True),\n",
    "    StructField('country', StringType(), True)\n",
    " ])\n",
    "\n",
    "df = spark.createDataFrame(data = data, schema = schema)\n",
    "df.printSchema()\n",
    "df.show(truncate=False)"
   ]
  },
  {
   "cell_type": "code",
   "execution_count": 2,
   "id": "bd87a66b",
   "metadata": {},
   "outputs": [
    {
     "name": "stdout",
     "output_type": "stream",
     "text": [
      "+--------------------+------+--------------------+------+-------+\n",
      "|                name|gender|             subject|status|country|\n",
      "+--------------------+------+--------------------+------+-------+\n",
      "|      {Ram, , Singh}|     M|[Maths, English, ...|  PASS|     IN|\n",
      "|{Rahul, Kumar, Va...|     M|  [English, Science]|  FAIL|    AUS|\n",
      "|    {Virat, Kohli, }|     M|    [Maths, English]|  FAIL|     IN|\n",
      "+--------------------+------+--------------------+------+-------+\n",
      "\n",
      "+-------------------+------+------------------+------+-------+\n",
      "|               name|gender|           subject|status|country|\n",
      "+-------------------+------+------------------+------+-------+\n",
      "| {Shyamo, Kumari, }|     F|  [Maths, Science]|  FAIL|    AUS|\n",
      "|   {Axeli, , Patel}|     F|  [Maths, English]|  PASS|    PAK|\n",
      "|{Vinai, Raj, Singh}|     F|[English, Science]|  PASS|    PAK|\n",
      "+-------------------+------+------------------+------+-------+\n",
      "\n",
      "+----------------+------+----------------+------+-------+\n",
      "|            name|gender|         subject|status|country|\n",
      "+----------------+------+----------------+------+-------+\n",
      "|{Virat, Kohli, }|     M|[Maths, English]|  FAIL|     IN|\n",
      "+----------------+------+----------------+------+-------+\n",
      "\n"
     ]
    }
   ],
   "source": [
    "#way 1\n",
    "df.filter(df.gender == \"M\").show()\n",
    "\n",
    "#way 2\n",
    "df.filter(col('gender') == \"F\").show()\n",
    "\n",
    "#nested column\n",
    "df.filter(df.name.firstname == 'Virat').show()"
   ]
  },
  {
   "cell_type": "code",
   "execution_count": 3,
   "id": "ea2b3910",
   "metadata": {},
   "outputs": [
    {
     "name": "stdout",
     "output_type": "stream",
     "text": [
      "+-------------------+------+--------------------+------+-------+\n",
      "|               name|gender|             subject|status|country|\n",
      "+-------------------+------+--------------------+------+-------+\n",
      "|     {Ram, , Singh}|     M|[Maths, English, ...|  PASS|     IN|\n",
      "|   {Axeli, , Patel}|     F|    [Maths, English]|  PASS|    PAK|\n",
      "|{Vinai, Raj, Singh}|     F|  [English, Science]|  PASS|    PAK|\n",
      "+-------------------+------+--------------------+------+-------+\n",
      "\n",
      "+--------------------+------+------------------+------+-------+\n",
      "|                name|gender|           subject|status|country|\n",
      "+--------------------+------+------------------+------+-------+\n",
      "|  {Shyamo, Kumari, }|     F|  [Maths, Science]|  FAIL|    AUS|\n",
      "|{Rahul, Kumar, Va...|     M|[English, Science]|  FAIL|    AUS|\n",
      "|    {Virat, Kohli, }|     M|  [Maths, English]|  FAIL|     IN|\n",
      "+--------------------+------+------------------+------+-------+\n",
      "\n"
     ]
    }
   ],
   "source": [
    "#Using SQL Expression\n",
    "df.filter(\"status == 'PASS'\").show()\n",
    "\n",
    "#For not equal\n",
    "df.filter(\"status != 'PASS'\").show()"
   ]
  },
  {
   "cell_type": "code",
   "execution_count": 4,
   "id": "f4eb4a29",
   "metadata": {},
   "outputs": [
    {
     "name": "stdout",
     "output_type": "stream",
     "text": [
      "+--------------+------+--------------------+------+-------+\n",
      "|          name|gender|             subject|status|country|\n",
      "+--------------+------+--------------------+------+-------+\n",
      "|{Ram, , Singh}|     M|[Maths, English, ...|  PASS|     IN|\n",
      "+--------------+------+--------------------+------+-------+\n",
      "\n",
      "+--------------------+------+------------------+------+-------+\n",
      "|                name|gender|           subject|status|country|\n",
      "+--------------------+------+------------------+------+-------+\n",
      "|{Rahul, Kumar, Va...|     M|[English, Science]|  FAIL|    AUS|\n",
      "|    {Virat, Kohli, }|     M|  [Maths, English]|  FAIL|     IN|\n",
      "+--------------------+------+------------------+------+-------+\n",
      "\n"
     ]
    }
   ],
   "source": [
    "#multi condition\n",
    "\n",
    "#way 1\n",
    "df.filter((df.gender == 'M') & (df.status == 'PASS')).show()\n",
    "\n",
    "#way 2\n",
    "df.filter(\"gender == 'M' and status == 'FAIL'\").show()"
   ]
  },
  {
   "cell_type": "code",
   "execution_count": 5,
   "id": "a3027db0",
   "metadata": {},
   "outputs": [
    {
     "name": "stdout",
     "output_type": "stream",
     "text": [
      "+--------------------+------+--------------------+------+-------+\n",
      "|                name|gender|             subject|status|country|\n",
      "+--------------------+------+--------------------+------+-------+\n",
      "|      {Ram, , Singh}|     M|[Maths, English, ...|  PASS|     IN|\n",
      "|{Rahul, Kumar, Va...|     M|  [English, Science]|  FAIL|    AUS|\n",
      "|    {Virat, Kohli, }|     M|    [Maths, English]|  FAIL|     IN|\n",
      "+--------------------+------+--------------------+------+-------+\n",
      "\n"
     ]
    }
   ],
   "source": [
    "#Filter IS IN List values\n",
    "\n",
    "sub= ['M','Female']\n",
    "df.filter(df.gender.isin(sub)).show()"
   ]
  },
  {
   "cell_type": "code",
   "execution_count": 6,
   "id": "466ef892",
   "metadata": {},
   "outputs": [
    {
     "name": "stdout",
     "output_type": "stream",
     "text": [
      "+-------------------+------+------------------+------+-------+\n",
      "|               name|gender|           subject|status|country|\n",
      "+-------------------+------+------------------+------+-------+\n",
      "| {Shyamo, Kumari, }|     F|  [Maths, Science]|  FAIL|    AUS|\n",
      "|   {Axeli, , Patel}|     F|  [Maths, English]|  PASS|    PAK|\n",
      "|{Vinai, Raj, Singh}|     F|[English, Science]|  PASS|    PAK|\n",
      "+-------------------+------+------------------+------+-------+\n",
      "\n",
      "+-------------------+------+------------------+------+-------+\n",
      "|               name|gender|           subject|status|country|\n",
      "+-------------------+------+------------------+------+-------+\n",
      "| {Shyamo, Kumari, }|     F|  [Maths, Science]|  FAIL|    AUS|\n",
      "|   {Axeli, , Patel}|     F|  [Maths, English]|  PASS|    PAK|\n",
      "|{Vinai, Raj, Singh}|     F|[English, Science]|  PASS|    PAK|\n",
      "+-------------------+------+------------------+------+-------+\n",
      "\n"
     ]
    }
   ],
   "source": [
    "# Filter NOT IS IN List values\n",
    "\n",
    "df.filter(~df.gender.isin(sub)).show()\n",
    "df.filter(df.gender.isin(sub)==False).show()"
   ]
  },
  {
   "cell_type": "code",
   "execution_count": 7,
   "id": "11ffcc3d",
   "metadata": {},
   "outputs": [
    {
     "name": "stdout",
     "output_type": "stream",
     "text": [
      "+----------------+------+--------------------+------+-------+\n",
      "|            name|gender|             subject|status|country|\n",
      "+----------------+------+--------------------+------+-------+\n",
      "|  {Ram, , Singh}|     M|[Maths, English, ...|  PASS|     IN|\n",
      "|{Virat, Kohli, }|     M|    [Maths, English]|  FAIL|     IN|\n",
      "+----------------+------+--------------------+------+-------+\n",
      "\n",
      "+--------------------+------+------------------+------+-------+\n",
      "|                name|gender|           subject|status|country|\n",
      "+--------------------+------+------------------+------+-------+\n",
      "|  {Shyamo, Kumari, }|     F|  [Maths, Science]|  FAIL|    AUS|\n",
      "|{Rahul, Kumar, Va...|     M|[English, Science]|  FAIL|    AUS|\n",
      "+--------------------+------+------------------+------+-------+\n",
      "\n",
      "+--------------------+------+------------------+------+-------+\n",
      "|                name|gender|           subject|status|country|\n",
      "+--------------------+------+------------------+------+-------+\n",
      "|  {Shyamo, Kumari, }|     F|  [Maths, Science]|  FAIL|    AUS|\n",
      "|{Rahul, Kumar, Va...|     M|[English, Science]|  FAIL|    AUS|\n",
      "|    {Axeli, , Patel}|     F|  [Maths, English]|  PASS|    PAK|\n",
      "| {Vinai, Raj, Singh}|     F|[English, Science]|  PASS|    PAK|\n",
      "+--------------------+------+------------------+------+-------+\n",
      "\n"
     ]
    }
   ],
   "source": [
    "# Using startswith\n",
    "df.filter(df.country.startswith(\"I\")).show()\n",
    "\n",
    "#using endswith\n",
    "df.filter(df.country.endswith(\"S\")).show()\n",
    "\n",
    "#contains\n",
    "df.filter(df.country.contains(\"A\")).show()"
   ]
  },
  {
   "cell_type": "code",
   "execution_count": 8,
   "id": "004854c3",
   "metadata": {},
   "outputs": [
    {
     "name": "stdout",
     "output_type": "stream",
     "text": [
      "+-------------------+------+------------------+------+-------+\n",
      "|               name|gender|           subject|status|country|\n",
      "+-------------------+------+------------------+------+-------+\n",
      "|   {Virat, Kohli, }|     M|  [Maths, English]|  FAIL|     IN|\n",
      "|{Vinai, Raj, Singh}|     F|[English, Science]|  PASS|    PAK|\n",
      "+-------------------+------+------------------+------+-------+\n",
      "\n",
      "+------------------+------+----------------+------+-------+\n",
      "|              name|gender|         subject|status|country|\n",
      "+------------------+------+----------------+------+-------+\n",
      "|{Shyamo, Kumari, }|     F|[Maths, Science]|  FAIL|    AUS|\n",
      "|  {Virat, Kohli, }|     M|[Maths, English]|  FAIL|     IN|\n",
      "+------------------+------+----------------+------+-------+\n",
      "\n"
     ]
    }
   ],
   "source": [
    "#SQL like # CaseSensitive\n",
    "\n",
    "df.filter(df.name.firstname.like('%Vi%')).show()\n",
    "\n",
    "df.filter(df.name.middlename.rlike('^*i$')).show()"
   ]
  },
  {
   "cell_type": "code",
   "execution_count": 9,
   "id": "4ce36061",
   "metadata": {},
   "outputs": [
    {
     "name": "stdout",
     "output_type": "stream",
     "text": [
      "+------------------------+------+-------------------------+------+-------+\n",
      "|name                    |gender|subject                  |status|country|\n",
      "+------------------------+------+-------------------------+------+-------+\n",
      "|{Ram, , Singh}          |M     |[Maths, English, Science]|PASS  |IN     |\n",
      "|{Shyamo, Kumari, }      |F     |[Maths, Science]         |FAIL  |AUS    |\n",
      "|{Rahul, Kumar, Varshney}|M     |[English, Science]       |FAIL  |AUS    |\n",
      "|{Vinai, Raj, Singh}     |F     |[English, Science]       |PASS  |PAK    |\n",
      "+------------------------+------+-------------------------+------+-------+\n",
      "\n"
     ]
    }
   ],
   "source": [
    "#Filter array\n",
    "\n",
    "df.filter(array_contains(df.subject,\"Science\")).show(truncate=False)"
   ]
  },
  {
   "cell_type": "markdown",
   "id": "95879c72",
   "metadata": {},
   "source": [
    "# NOTE:  All these operation can be done with \"where\" in place of \"filter\"\n"
   ]
  },
  {
   "cell_type": "code",
   "execution_count": 11,
   "id": "0719984c",
   "metadata": {},
   "outputs": [
    {
     "name": "stdout",
     "output_type": "stream",
     "text": [
      "+------------------------+------+-------------------------+------+-------+\n",
      "|name                    |gender|subject                  |status|country|\n",
      "+------------------------+------+-------------------------+------+-------+\n",
      "|{Ram, , Singh}          |M     |[Maths, English, Science]|PASS  |IN     |\n",
      "|{Shyamo, Kumari, }      |F     |[Maths, Science]         |FAIL  |AUS    |\n",
      "|{Rahul, Kumar, Varshney}|M     |[English, Science]       |FAIL  |AUS    |\n",
      "|{Vinai, Raj, Singh}     |F     |[English, Science]       |PASS  |PAK    |\n",
      "+------------------------+------+-------------------------+------+-------+\n",
      "\n"
     ]
    }
   ],
   "source": [
    "df.where(array_contains(df.subject,\"Science\")).show(truncate=False)"
   ]
  },
  {
   "cell_type": "code",
   "execution_count": null,
   "id": "60a5f70f",
   "metadata": {},
   "outputs": [],
   "source": []
  }
 ],
 "metadata": {
  "kernelspec": {
   "display_name": "Python 3 (ipykernel)",
   "language": "python",
   "name": "python3"
  },
  "language_info": {
   "codemirror_mode": {
    "name": "ipython",
    "version": 3
   },
   "file_extension": ".py",
   "mimetype": "text/x-python",
   "name": "python",
   "nbconvert_exporter": "python",
   "pygments_lexer": "ipython3",
   "version": "3.9.13"
  }
 },
 "nbformat": 4,
 "nbformat_minor": 5
}
