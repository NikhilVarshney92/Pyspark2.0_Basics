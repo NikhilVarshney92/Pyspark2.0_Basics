{
 "cells": [
  {
   "cell_type": "markdown",
   "id": "8add6c31",
   "metadata": {},
   "source": [
    "# PySpark Basic DataFrame"
   ]
  },
  {
   "cell_type": "raw",
   "id": "746fe933",
   "metadata": {},
   "source": [
    "To install pyspark in anaconda \n",
    "\n",
    "Open anaconda prompt/cmd:\n",
    "\n",
    "First run command:\n",
    "    conda install openjdk\n",
    "Second run command:\n",
    "    conda install pyspark"
   ]
  },
  {
   "cell_type": "markdown",
   "id": "ec046c8a",
   "metadata": {},
   "source": [
    "### Session creation"
   ]
  },
  {
   "cell_type": "code",
   "execution_count": 1,
   "id": "0fbf4ddf",
   "metadata": {},
   "outputs": [],
   "source": [
    "from pyspark.sql import SparkSession"
   ]
  },
  {
   "cell_type": "code",
   "execution_count": 2,
   "id": "021ed42c",
   "metadata": {},
   "outputs": [],
   "source": [
    "spark = SparkSession.builder.appName('Basics_pyspark_df').getOrCreate()"
   ]
  },
  {
   "cell_type": "markdown",
   "id": "6ae7a6be",
   "metadata": {},
   "source": [
    "### Dataframe creation"
   ]
  },
  {
   "cell_type": "code",
   "execution_count": 3,
   "id": "ddc9c498",
   "metadata": {},
   "outputs": [],
   "source": [
    "df = spark.read.csv('data/student_data.csv', header=True)   # Header is true is important if you have column name in your csv"
   ]
  },
  {
   "cell_type": "code",
   "execution_count": 4,
   "id": "7b45f9e8",
   "metadata": {},
   "outputs": [
    {
     "name": "stdout",
     "output_type": "stream",
     "text": [
      "root\n",
      " |-- Name: string (nullable = true)\n",
      " |-- Roll_No: string (nullable = true)\n",
      " |-- Marks: string (nullable = true)\n",
      " |-- Class: string (nullable = true)\n",
      " |-- Subject: string (nullable = true)\n",
      " |-- Section: string (nullable = true)\n",
      "\n"
     ]
    }
   ],
   "source": [
    "# as we can see initially it didn't pick coorect dtypes for columns\n",
    "\n",
    "df.printSchema()     # show the the dtypes of features"
   ]
  },
  {
   "cell_type": "code",
   "execution_count": 5,
   "id": "337803e0",
   "metadata": {},
   "outputs": [
    {
     "name": "stdout",
     "output_type": "stream",
     "text": [
      "root\n",
      " |-- Name: string (nullable = true)\n",
      " |-- Roll_No: integer (nullable = true)\n",
      " |-- Marks: integer (nullable = true)\n",
      " |-- Class: integer (nullable = true)\n",
      " |-- Subject: string (nullable = true)\n",
      " |-- Section: string (nullable = true)\n",
      "\n"
     ]
    }
   ],
   "source": [
    "#inferSchema\n",
    "#The default value set to this option is 'False' when setting to 'true' it automatically infers column types based on the data.\n",
    "\n",
    "df = spark.read.csv('data/student_data.csv', header=True, inferSchema=True)\n",
    "df.printSchema()"
   ]
  },
  {
   "cell_type": "code",
   "execution_count": 6,
   "id": "38fd50ab",
   "metadata": {},
   "outputs": [
    {
     "name": "stdout",
     "output_type": "stream",
     "text": [
      "+-------+-------+-----+-----+--------+-------+\n",
      "|   Name|Roll_No|Marks|Class| Subject|Section|\n",
      "+-------+-------+-----+-----+--------+-------+\n",
      "|  Avind|      1|   92|    9|   Maths|      A|\n",
      "| Aditya|      2|   87|    9|   Maths|      A|\n",
      "|   John|      3|   23|    9|   Maths|      B|\n",
      "|   Mary|      4|   45|    9|   Maths|      B|\n",
      "|Nicolas|      5|   67|    9| English|      A|\n",
      "|  Jonny|      6|  100|    9| English|      A|\n",
      "|    Tom|      7|   55|    9| English|      B|\n",
      "|   Yash|      4|   32|    9| English|      B|\n",
      "|Pushkar|      8|   30|    9| Science|      B|\n",
      "|  Parth|      9|   76|    9| Science|      A|\n",
      "| Piyush|     10|   86|    9| Science|      A|\n",
      "| Zodiac|     11|   65|    9|Computer|      B|\n",
      "+-------+-------+-----+-----+--------+-------+\n",
      "\n"
     ]
    }
   ],
   "source": [
    "df.show()"
   ]
  },
  {
   "cell_type": "code",
   "execution_count": 7,
   "id": "6755d9c5",
   "metadata": {},
   "outputs": [
    {
     "name": "stdout",
     "output_type": "stream",
     "text": [
      "+-------+------+-----------------+------------------+-----+--------+-------+\n",
      "|summary|  Name|          Roll_No|             Marks|Class| Subject|Section|\n",
      "+-------+------+-----------------+------------------+-----+--------+-------+\n",
      "|  count|    12|               12|                12|   12|      12|     12|\n",
      "|   mean|  null|5.833333333333333|63.166666666666664|  9.0|    null|   null|\n",
      "| stddev|  null|3.214550253664318|  26.1840802894824|  0.0|    null|   null|\n",
      "|    min|Aditya|                1|                23|    9|Computer|      A|\n",
      "|    max|Zodiac|               11|               100|    9| Science|      B|\n",
      "+-------+------+-----------------+------------------+-----+--------+-------+\n",
      "\n"
     ]
    }
   ],
   "source": [
    "df.describe().show()   # basic statistics for numeric and string columns"
   ]
  },
  {
   "cell_type": "code",
   "execution_count": 8,
   "id": "6cc7cf4e",
   "metadata": {},
   "outputs": [
    {
     "data": {
      "text/plain": [
       "['Name', 'Roll_No', 'Marks', 'Class', 'Subject', 'Section']"
      ]
     },
     "execution_count": 8,
     "metadata": {},
     "output_type": "execute_result"
    }
   ],
   "source": [
    "df.columns        # return python list of columns of df"
   ]
  },
  {
   "cell_type": "markdown",
   "id": "bd66a1a3",
   "metadata": {},
   "source": [
    "## creating own schema for data"
   ]
  },
  {
   "cell_type": "code",
   "execution_count": 9,
   "id": "65c6a8f5",
   "metadata": {},
   "outputs": [],
   "source": [
    "from pyspark.sql.types import StructType, StructField, StringType, IntegerType, FloatType"
   ]
  },
  {
   "cell_type": "code",
   "execution_count": 10,
   "id": "886bd7f9",
   "metadata": {},
   "outputs": [],
   "source": [
    "import numpy as np\n",
    "data = [(\"John\",\"\",\"Don\",36636.334,\"M\",3000),\n",
    "    (\"Mahesh\",\"Raj\",\"\",40288.101,\"M\",4000),\n",
    "    (\"Robert\",\"Dorney\",\"Junior\",42114.99,\"M\",4000),\n",
    "    (\"May\",\"\",\"Jones\",3919.00123,\"F\",4000),\n",
    "    (\"Nick\",\"Mary\",\"Brown\",np.nan,\"F\",-1000)]\n",
    "\n",
    "schema = StructType([\n",
    "    StructField(\"firstname\",StringType(),True),\n",
    "    StructField(\"middlename\",StringType(),True),\n",
    "    StructField(\"lastname\",StringType(),True),\n",
    "    StructField(\"points\", FloatType(), True),\n",
    "    StructField(\"gender\", StringType(), True),\n",
    "    StructField(\"salary\", IntegerType(), True)\n",
    "  ])"
   ]
  },
  {
   "cell_type": "code",
   "execution_count": 11,
   "id": "a57e5080",
   "metadata": {},
   "outputs": [
    {
     "name": "stdout",
     "output_type": "stream",
     "text": [
      "root\n",
      " |-- firstname: string (nullable = true)\n",
      " |-- middlename: string (nullable = true)\n",
      " |-- lastname: string (nullable = true)\n",
      " |-- points: float (nullable = true)\n",
      " |-- gender: string (nullable = true)\n",
      " |-- salary: integer (nullable = true)\n",
      "\n",
      "+---------+----------+--------+---------+------+------+\n",
      "|firstname|middlename|lastname|points   |gender|salary|\n",
      "+---------+----------+--------+---------+------+------+\n",
      "|John     |          |Don     |36636.336|M     |3000  |\n",
      "|Mahesh   |Raj       |        |40288.1  |M     |4000  |\n",
      "|Robert   |Dorney    |Junior  |42114.99 |M     |4000  |\n",
      "|May      |          |Jones   |3919.0012|F     |4000  |\n",
      "|Nick     |Mary      |Brown   |NaN      |F     |-1000 |\n",
      "+---------+----------+--------+---------+------+------+\n",
      "\n"
     ]
    }
   ],
   "source": [
    "df1 = spark.createDataFrame(data=data,schema=schema)\n",
    "df1.printSchema()\n",
    "df1.show(truncate=False)"
   ]
  },
  {
   "cell_type": "markdown",
   "id": "7a6c71e5",
   "metadata": {},
   "source": [
    "### nested Columns"
   ]
  },
  {
   "cell_type": "code",
   "execution_count": 12,
   "id": "984fe76b",
   "metadata": {},
   "outputs": [
    {
     "name": "stdout",
     "output_type": "stream",
     "text": [
      "root\n",
      " |-- name: struct (nullable = true)\n",
      " |    |-- firstname: string (nullable = true)\n",
      " |    |-- middlename: string (nullable = true)\n",
      " |    |-- lastname: string (nullable = true)\n",
      " |-- id: string (nullable = true)\n",
      " |-- gender: string (nullable = true)\n",
      " |-- salary: integer (nullable = true)\n",
      "\n",
      "+------------------------+----------+------+------+\n",
      "|name                    |id        |gender|salary|\n",
      "+------------------------+----------+------+------+\n",
      "|{John, , Don}           |36636.334 |M     |3000  |\n",
      "|{Mahesh, Raj, }         |40288.101 |M     |4000  |\n",
      "|{Robert, Dorney, Junior}|42114.99  |M     |4000  |\n",
      "|{May, , Jones}          |3919.00123|F     |4000  |\n",
      "|{Nick, Mary, Brown}     |NaN       |F     |-1000 |\n",
      "+------------------------+----------+------+------+\n",
      "\n"
     ]
    }
   ],
   "source": [
    "structureData = [((\"John\",\"\",\"Don\"),36636.334,\"M\",3000),\n",
    "    ((\"Mahesh\",\"Raj\",\"\"),40288.101,\"M\",4000),\n",
    "    ((\"Robert\",\"Dorney\",\"Junior\"),42114.99,\"M\",4000),\n",
    "    ((\"May\",\"\",\"Jones\"),3919.00123,\"F\",4000),\n",
    "    ((\"Nick\",\"Mary\",\"Brown\"),np.nan,\"F\",-1000)]\n",
    "\n",
    "structureSchema = StructType([\n",
    "        StructField('name', StructType([\n",
    "             StructField('firstname', StringType(), True),\n",
    "             StructField('middlename', StringType(), True),\n",
    "             StructField('lastname', StringType(), True)\n",
    "             ])),\n",
    "         StructField('id', StringType(), True),\n",
    "         StructField('gender', StringType(), True),\n",
    "         StructField('salary', IntegerType(), True)\n",
    "         ])\n",
    "\n",
    "df2 = spark.createDataFrame(data=structureData,schema=structureSchema)\n",
    "df2.printSchema()\n",
    "df2.show(truncate=False)"
   ]
  },
  {
   "cell_type": "code",
   "execution_count": null,
   "id": "88cdf852",
   "metadata": {},
   "outputs": [],
   "source": []
  }
 ],
 "metadata": {
  "kernelspec": {
   "display_name": "Python 3 (ipykernel)",
   "language": "python",
   "name": "python3"
  },
  "language_info": {
   "codemirror_mode": {
    "name": "ipython",
    "version": 3
   },
   "file_extension": ".py",
   "mimetype": "text/x-python",
   "name": "python",
   "nbconvert_exporter": "python",
   "pygments_lexer": "ipython3",
   "version": "3.9.13"
  }
 },
 "nbformat": 4,
 "nbformat_minor": 5
}
